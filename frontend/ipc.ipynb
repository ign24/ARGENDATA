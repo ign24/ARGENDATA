{
 "cells": [
  {
   "cell_type": "code",
   "execution_count": 2,
   "metadata": {},
   "outputs": [
    {
     "name": "stdout",
     "output_type": "stream",
     "text": [
      "No se encontró el dato del IPC.\n"
     ]
    }
   ],
   "source": [
    "import requests\n",
    "from bs4 import BeautifulSoup\n",
    "\n",
    "# URL del sitio web\n",
    "url = \"https://www.economia.gob.ar/datos/\"\n",
    "\n",
    "# Hacer la solicitud HTTP\n",
    "response = requests.get(url)\n",
    "\n",
    "# Verificar si la solicitud fue exitosa\n",
    "if response.status_code == 200:\n",
    "    # Parsear el HTML con BeautifulSoup\n",
    "    soup = BeautifulSoup(response.text, \"html.parser\")\n",
    "    \n",
    "    # Buscar el elemento que contiene el dato del IPC\n",
    "    ipc_element = soup.find(\"p\", class_=\"units_representation\")\n",
    "    \n",
    "    # Extraer y mostrar el dato\n",
    "    if ipc_element:\n",
    "        ipc_value = ipc_element.text.strip()\n",
    "        print(f\"IPC Nacional (Variación Intermensual): {ipc_value}\")\n",
    "    else:\n",
    "        print(\"No se encontró el dato del IPC.\")\n",
    "else:\n",
    "    print(f\"Error al acceder a la página: {response.status_code}\")\n"
   ]
  }
 ],
 "metadata": {
  "kernelspec": {
   "display_name": "Python 3",
   "language": "python",
   "name": "python3"
  },
  "language_info": {
   "codemirror_mode": {
    "name": "ipython",
    "version": 3
   },
   "file_extension": ".py",
   "mimetype": "text/x-python",
   "name": "python",
   "nbconvert_exporter": "python",
   "pygments_lexer": "ipython3",
   "version": "3.13.2"
  }
 },
 "nbformat": 4,
 "nbformat_minor": 2
}
